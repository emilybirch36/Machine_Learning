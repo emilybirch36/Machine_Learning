{
 "cells": [
  {
   "cell_type": "markdown",
   "metadata": {},
   "source": [
    "**Neural Network**"
   ]
  },
  {
   "cell_type": "code",
   "execution_count": 1,
   "metadata": {},
   "outputs": [
    {
     "name": "stdout",
     "output_type": "stream",
     "text": [
      "/Users/emilybirch/CEGE0004\n"
     ]
    },
    {
     "data": {
      "image/png": "[encoded data removed]",
      "text/plain": [
       "<Figure size 432x288 with 1 Axes>"
      ]
     },
     "metadata": {
      "needs_background": "light"
     },
     "output_type": "display_data"
    },
    {
     "data": {
      "image/png": "[encoded data removed]",
      "text/plain": [
       "<Figure size 432x288 with 1 Axes>"
      ]
     },
     "metadata": {
      "needs_background": "light"
     },
     "output_type": "display_data"
    },
    {
     "name": "stdout",
     "output_type": "stream",
     "text": [
      "(1881, 100)\n"
     ]
    },
    {
     "name": "stderr",
     "output_type": "stream",
     "text": [
      "Using TensorFlow backend.\n",
      "/Users/emilybirch/opt/anaconda3/envs/keras/lib/python3.6/site-packages/tensorflow/python/framework/dtypes.py:516: FutureWarning: Passing (type, 1) or '1type' as a synonym of type is deprecated; in a future version of numpy, it will be understood as (type, (1,)) / '(1,)type'.\n",
      "  _np_qint8 = np.dtype([(\"qint8\", np.int8, 1)])\n",
      "/Users/emilybirch/opt/anaconda3/envs/keras/lib/python3.6/site-packages/tensorflow/python/framework/dtypes.py:517: FutureWarning: Passing (type, 1) or '1type' as a synonym of type is deprecated; in a future version of numpy, it will be understood as (type, (1,)) / '(1,)type'.\n",
      "  _np_quint8 = np.dtype([(\"quint8\", np.uint8, 1)])\n",
      "/Users/emilybirch/opt/anaconda3/envs/keras/lib/python3.6/site-packages/tensorflow/python/framework/dtypes.py:518: FutureWarning: Passing (type, 1) or '1type' as a synonym of type is deprecated; in a future version of numpy, it will be understood as (type, (1,)) / '(1,)type'.\n",
      "  _np_qint16 = np.dtype([(\"qint16\", np.int16, 1)])\n",
      "/Users/emilybirch/opt/anaconda3/envs/keras/lib/python3.6/site-packages/tensorflow/python/framework/dtypes.py:519: FutureWarning: Passing (type, 1) or '1type' as a synonym of type is deprecated; in a future version of numpy, it will be understood as (type, (1,)) / '(1,)type'.\n",
      "  _np_quint16 = np.dtype([(\"quint16\", np.uint16, 1)])\n",
      "/Users/emilybirch/opt/anaconda3/envs/keras/lib/python3.6/site-packages/tensorflow/python/framework/dtypes.py:520: FutureWarning: Passing (type, 1) or '1type' as a synonym of type is deprecated; in a future version of numpy, it will be understood as (type, (1,)) / '(1,)type'.\n",
      "  _np_qint32 = np.dtype([(\"qint32\", np.int32, 1)])\n",
      "/Users/emilybirch/opt/anaconda3/envs/keras/lib/python3.6/site-packages/tensorflow/python/framework/dtypes.py:525: FutureWarning: Passing (type, 1) or '1type' as a synonym of type is deprecated; in a future version of numpy, it will be understood as (type, (1,)) / '(1,)type'.\n",
      "  np_resource = np.dtype([(\"resource\", np.ubyte, 1)])\n",
      "/Users/emilybirch/opt/anaconda3/envs/keras/lib/python3.6/site-packages/tensorboard/compat/tensorflow_stub/dtypes.py:541: FutureWarning: Passing (type, 1) or '1type' as a synonym of type is deprecated; in a future version of numpy, it will be understood as (type, (1,)) / '(1,)type'.\n",
      "  _np_qint8 = np.dtype([(\"qint8\", np.int8, 1)])\n",
      "/Users/emilybirch/opt/anaconda3/envs/keras/lib/python3.6/site-packages/tensorboard/compat/tensorflow_stub/dtypes.py:542: FutureWarning: Passing (type, 1) or '1type' as a synonym of type is deprecated; in a future version of numpy, it will be understood as (type, (1,)) / '(1,)type'.\n",
      "  _np_quint8 = np.dtype([(\"quint8\", np.uint8, 1)])\n",
      "/Users/emilybirch/opt/anaconda3/envs/keras/lib/python3.6/site-packages/tensorboard/compat/tensorflow_stub/dtypes.py:543: FutureWarning: Passing (type, 1) or '1type' as a synonym of type is deprecated; in a future version of numpy, it will be understood as (type, (1,)) / '(1,)type'.\n",
      "  _np_qint16 = np.dtype([(\"qint16\", np.int16, 1)])\n",
      "/Users/emilybirch/opt/anaconda3/envs/keras/lib/python3.6/site-packages/tensorboard/compat/tensorflow_stub/dtypes.py:544: FutureWarning: Passing (type, 1) or '1type' as a synonym of type is deprecated; in a future version of numpy, it will be understood as (type, (1,)) / '(1,)type'.\n",
      "  _np_quint16 = np.dtype([(\"quint16\", np.uint16, 1)])\n",
      "/Users/emilybirch/opt/anaconda3/envs/keras/lib/python3.6/site-packages/tensorboard/compat/tensorflow_stub/dtypes.py:545: FutureWarning: Passing (type, 1) or '1type' as a synonym of type is deprecated; in a future version of numpy, it will be understood as (type, (1,)) / '(1,)type'.\n",
      "  _np_qint32 = np.dtype([(\"qint32\", np.int32, 1)])\n",
      "/Users/emilybirch/opt/anaconda3/envs/keras/lib/python3.6/site-packages/tensorboard/compat/tensorflow_stub/dtypes.py:550: FutureWarning: Passing (type, 1) or '1type' as a synonym of type is deprecated; in a future version of numpy, it will be understood as (type, (1,)) / '(1,)type'.\n",
      "  np_resource = np.dtype([(\"resource\", np.ubyte, 1)])\n"
     ]
    },
    {
     "name": "stdout",
     "output_type": "stream",
     "text": [
      "[[ 0.1709585   0.86115875 -0.69514359 ...  0.65091754 -0.65825201\n",
      "  -1.60502361]\n",
      " [ 0.5682599   0.66156113 -0.14248086 ...  0.35222533  0.38228698\n",
      "   0.65860842]\n",
      " [-0.19412927 -0.39406151 -0.1774193  ... -0.10631744 -1.14383688\n",
      "  -1.60502361]\n",
      " ...\n",
      " [-0.99368801 -1.04745553  0.46100144 ...  0.14396288  0.65976405\n",
      "  -1.60502361]\n",
      " [ 0.81275307  0.58997293 -0.74278693 ... -2.06836901 -0.38077495\n",
      "   0.66701496]\n",
      " [-0.93256471  0.61909356  0.24184208 ...  1.01537684 -0.31140568\n",
      "  -1.60502361]]\n"
     ]
    }
   ],
   "source": [
    "# run preprocessing\n",
    "%pwd  \n",
    "%cd /Users/emilybirch/CEGE0004\n",
    "%run alt_Preprocessing.ipynb\n",
    "\n",
    "\n",
    "#import the required pacakages\n",
    "import pandas\n",
    "from keras.models import Sequential\n",
    "from keras.layers import Dense\n",
    "from keras.wrappers.scikit_learn import KerasClassifier\n",
    "from sklearn.preprocessing import LabelEncoder\n",
    "from sklearn.preprocessing import StandardScaler\n",
    "from sklearn.pipeline import Pipeline\n",
    "from sklearn.model_selection import GridSearchCV\n",
    "from keras.optimizers import SGD\n",
    "from keras.layers import Dropout\n",
    "from keras.constraints import maxnorm\n",
    "from sklearn.model_selection import KFold, StratifiedKFold, cross_val_score\n",
    "\n",
    "\n",
    "\n",
    "# Split the data into training and test data sets using sklearn.model_selection\n",
    "from sklearn.model_selection import train_test_split\n",
    "\n",
    "x_train, x_test, y_train, y_test = train_test_split(x, y, train_size=0.85, random_state=1)\n",
    "\n",
    "\n",
    "# transform x features\n",
    "sc = StandardScaler()\n",
    "sc.fit(x_train)\n",
    "X_train = sc.transform(x_train)\n",
    "\n",
    "\n",
    "sc = StandardScaler()\n",
    "sc.fit(x_test)\n",
    "X_test_transf = sc.transform(x_test)\n",
    "\n",
    "\n",
    "# check that the data is transformed such that its distribution will have a mean value 0 and standard deviation of 1.\n",
    "print(X_train)"
   ]
  },
  {
   "cell_type": "code",
   "execution_count": 6,
   "metadata": {},
   "outputs": [
    {
     "name": "stdout",
     "output_type": "stream",
     "text": [
      "(1881, 100) (333, 100) (1881,) (333,)\n"
     ]
    }
   ],
   "source": [
    "# check the data\n",
    "print(X_train.shape, x_test.shape, y_train.shape, y_test.shape)"
   ]
  },
  {
   "cell_type": "markdown",
   "metadata": {},
   "source": [
    "**Results of grid search (GridSearchCV()) to tune hyperparameters found:**\n",
    "\n",
    "1. The optimizer providing the best model accuracy is 'Adagrad'.\n",
    "2. The optimal learning rate and momentum are: is 'learn_rate': 0.3 and 'momentum': 0.0 (when using stochastic gradient descent).\n",
    "3. Use epochs=50 and batch size=5 to find the minima more quickly, reducing computational running time. Plus to allow the model to not learn patterns. \n",
    "4. Use a dropout rate for regularisation of 0.7 and a maxnorm 3 kernel weight constraint, to improve the model's ability to generalise.\n",
    "5. Set the number of neurons to between 1-15 (had the highest accuracy scores) to control the representational capacity of the NN. "
   ]
  },
  {
   "cell_type": "code",
   "execution_count": 2,
   "metadata": {},
   "outputs": [],
   "source": [
    "# function to create model, required for KerasClassifier\n",
    "def create_model(optimizer='Adagrad', init='glorot_uniform', neurons=12, dropout_rate=0.2):\n",
    "    # create model\n",
    "    model = Sequential()\n",
    "    # adding more layers by trial and error\n",
    "    model.add(Dense(neurons, input_dim=100, kernel_initializer='uniform', activation='linear', kernel_constraint=maxnorm(4)))\n",
    "    model.add(Dropout(dropout_rate))\n",
    "    model.add(Dense(1, kernel_initializer=init, activation='sigmoid')) \n",
    "    # Compile model\n",
    "    model.compile(loss='binary_crossentropy', optimizer=optimizer, metrics=['accuracy'])\n",
    "    return model\n"
   ]
  },
  {
   "cell_type": "code",
   "execution_count": 3,
   "metadata": {},
   "outputs": [
    {
     "name": "stdout",
     "output_type": "stream",
     "text": [
      "WARNING:tensorflow:From /Users/emilybirch/opt/anaconda3/envs/keras/lib/python3.6/site-packages/tensorflow/python/ops/nn_impl.py:180: add_dispatch_support.<locals>.wrapper (from tensorflow.python.ops.array_ops) is deprecated and will be removed in a future version.\n",
      "Instructions for updating:\n",
      "Use tf.where in 2.0, which has the same broadcast rule as np.where\n",
      "WARNING:tensorflow:From /Users/emilybirch/opt/anaconda3/envs/keras/lib/python3.6/site-packages/keras/backend/tensorflow_backend.py:422: The name tf.global_variables is deprecated. Please use tf.compat.v1.global_variables instead.\n",
      "\n",
      "Smaller: 85.01% (1.85%)\n"
     ]
    }
   ],
   "source": [
    "# get cross validation score  \n",
    "# Use k fold splits= 11, this achieves maximum accuracy (determined from the loop below)\n",
    "kfold = StratifiedKFold(n_splits=11, shuffle=True)\n",
    "classifier = KerasClassifier(build_fn = create_model, batch_size = 5, epochs = 50, verbose=0)\n",
    "accuracies = cross_val_score(classifier, X_train, y_train, cv= kfold)\n",
    "print(\"Smaller: %.2f%% (%.2f%%)\" % (accuracies.mean()*100, accuracies.std()*100))\n",
    "\n",
    "\n",
    "\n",
    "# This code was used to plot the k-fold-accuracy average scores at different k folds\n",
    "# the result found that k=11 is the optimum\n",
    "# the loop is too computationally slow to keep in the final code \n",
    "\n",
    "\n",
    "# kfold_scores = {}\n",
    "# for i in range(2,12):\n",
    " #   kfold = StratifiedKFold(n_splits=10, shuffle=True)\n",
    "  #  classifier = KerasClassifier(build_fn = create_model, batch_size = 5, epochs = 50, verbose=0)\n",
    "  #  accuracies = cross_val_score(classifier, X_train, y_train, cv= kfold)\n",
    "  #  res = {str(i): accuracies.mean()}\n",
    "    # kfold_scores.update(res)\n",
    "\n",
    "# for key in kfold_scores:\n",
    " #   plt.bar([key], kfold_scores[key], label=key, color=(0.2, 0.4, 0.6, 0.6))\n",
    "\n",
    "# plt.title('K-Fold vs Test Data Accuracy')\n",
    "# plt.xlabel('K')\n",
    "# plt.ylabel('Accuracy')\n",
    "# plt.ylim(0.7, 0.9)\n",
    "# plt.show()\n",
    "\n",
    "# print(\"Smaller: %.2f%% (%.2f%%)\" % (accuracies.mean()*100, accuracies.std()*100))\n"
   ]
  },
  {
   "cell_type": "markdown",
   "metadata": {},
   "source": [
    "**Model classification scores on train data:**\n",
    "\n",
    "**Accuracy**: 85.01%\n",
    "\n",
    "**Standard Deviation**: 1.85%"
   ]
  },
  {
   "cell_type": "code",
   "execution_count": 4,
   "metadata": {},
   "outputs": [
    {
     "name": "stdout",
     "output_type": "stream",
     "text": [
      "              precision    recall  f1-score   support\n",
      "\n",
      "         0.0       0.85      0.94      0.89       220\n",
      "         1.0       0.84      0.67      0.75       113\n",
      "\n",
      "    accuracy                           0.85       333\n",
      "   macro avg       0.85      0.80      0.82       333\n",
      "weighted avg       0.85      0.85      0.84       333\n",
      "\n"
     ]
    }
   ],
   "source": [
    "# fit the model on the train data\n",
    "train_pred = classifier.fit(X_train, y_train)\n",
    "\n",
    "# use the classifier to predict y (high or low crime)\n",
    "y_pred = classifier.predict(X_test_transf)\n",
    "y_pred = (y_pred > 0.5)\n",
    "\n",
    "# output a classification report inlcuding model classification accuracy and precision \n",
    "from sklearn.metrics import classification_report\n",
    "print(classification_report(y_test, y_pred))"
   ]
  },
  {
   "cell_type": "markdown",
   "metadata": {},
   "source": [
    "**Model classification scores on test data:**\n",
    "\n",
    "**Accuracy**: 0.85\n",
    "\n",
    "**Precision**: 0.84-0.85"
   ]
  },
  {
   "cell_type": "code",
   "execution_count": 5,
   "metadata": {},
   "outputs": [
    {
     "name": "stdout",
     "output_type": "stream",
     "text": [
      "Test Confusion matrix\n"
     ]
    },
    {
     "data": {
      "image/png": "[encoded data removed]",
      "text/plain": [
       "<Figure size 432x288 with 2 Axes>"
      ]
     },
     "metadata": {
      "needs_background": "light"
     },
     "output_type": "display_data"
    }
   ],
   "source": [
    "# plot the confusion matrix\n",
    "from sklearn.metrics import confusion_matrix\n",
    "from sklearn.metrics import plot_confusion_matrix\n",
    "import seaborn as sns\n",
    "\n",
    "classes = ['Low Violence', 'High Violence']\n",
    "def plot_confusionmatrix(train_pred, train, dom):\n",
    "    print(f'{dom} Confusion matrix')\n",
    "    cf = confusion_matrix(train_pred,train)\n",
    "    sns.heatmap(cf,annot=True,yticklabels=classes\n",
    "               ,xticklabels=classes,cmap='Blues', fmt='g')\n",
    "    plt.tight_layout()\n",
    "    plt.show()\n",
    "    \n",
    "    \n",
    "plot_confusionmatrix(y_test, y_pred,dom='Test')"
   ]
  },
  {
   "cell_type": "markdown",
   "metadata": {},
   "source": [
    "****Extra code showing how grid search for hyperparameter tuning was carried out**\n",
    "\n",
    "Using the GridSearchCV() class from scikit learn to find the hyperparameters that give the best model accuracy.\n",
    "\n",
    "\n",
    "1. to find the best optimizer \n",
    "2. to tune learning rate and momentum\n",
    "3. to tune the number of neurons \n",
    "4. to tune dropout regularisation\n",
    "5. to tune the number of epochs and batch size"
   ]
  },
  {
   "cell_type": "code",
   "execution_count": null,
   "metadata": {},
   "outputs": [],
   "source": [
    "# grid search tuning to find best optimizer\n",
    "\n",
    "# def create_model(optimizer='adam', init='glorot_uniform'):\n",
    "    # create model\n",
    "  #  model = Sequential()\n",
    "    # adding more layers by trial and error\n",
    "  #  model.add(Dense(30, input_dim=100, kernel_initializer=init, activation='relu'))\n",
    "  #  model.add(Dense(1, kernel_initializer=init, activation='sigmoid'))\n",
    "   # print(model.summary())\n",
    "    # Compile model\n",
    "  #  model.compile(loss='binary_crossentropy', optimizer=optimizer, metrics=['accuracy'])\n",
    "  #  return model\n",
    "\n",
    "\n",
    "# create model\n",
    "# model = KerasClassifier(build_fn=create_model, epochs=100, batch_size=10, verbose=0)\n",
    "# define the grid search parameters\n",
    "# optimizer = ['SGD', 'RMSprop', 'Adagrad', 'Adadelta', 'Adam', 'Adamax', 'Nadam']\n",
    "# param_grid = dict(optimizer=optimizer)\n",
    "# grid = GridSearchCV(estimator=model, param_grid=param_grid, n_jobs=-1, cv=3)\n",
    "# grid_result = grid.fit(X_train, y_train)\n",
    "# summarize results\n",
    "# print(\"Best: %f using %s\" % (grid_result.best_score_, grid_result.best_params_))\n",
    "# means = grid_result.cv_results_['mean_test_score']\n",
    "# stds = grid_result.cv_results_['std_test_score']\n",
    "# params = grid_result.cv_results_['params']\n",
    "# for mean, stdev, param in zip(means, stds, params):\n",
    "  #  print(\"%f (%f) with: %r\" % (mean, stdev, param))"
   ]
  },
  {
   "cell_type": "markdown",
   "metadata": {},
   "source": [
    "output: Best: 0.852206 using {'optimizer': 'Adagrad'}"
   ]
  },
  {
   "cell_type": "code",
   "execution_count": null,
   "metadata": {},
   "outputs": [],
   "source": [
    "# grid search to tune learning rate and momentum\n",
    "\n",
    "# create the model again and set these \n",
    "# from keras.optimizers import SGD\n",
    "# Function to create model, required for KerasClassifier\n",
    "# def create_model(learn_rate=0.01, momentum=0):\n",
    "    # create model\n",
    "   # model = Sequential()\n",
    "  #  model.add(Dense(12, input_dim=100, activation='relu'))\n",
    "  #  model.add(Dense(1, activation='sigmoid'))\n",
    "    # Compile model\n",
    "  #  optimizer = SGD(lr=learn_rate, momentum=momentum)\n",
    "  #  model.compile(loss='binary_crossentropy', optimizer='Adagrad', metrics=['accuracy'])\n",
    "  #  return model\n",
    "\n",
    "# create model\n",
    "# model = KerasClassifier(build_fn=create_model, epochs=50, batch_size=5, verbose=0)\n",
    "# define the grid search parameters\n",
    "# learn_rate = [0.001, 0.01, 0.1, 0.2, 0.3]\n",
    "# momentum = [0.0, 0.2, 0.4, 0.6, 0.8, 0.9]\n",
    "# param_grid = dict(learn_rate=learn_rate, momentum=momentum)\n",
    "# grid = GridSearchCV(estimator=model, param_grid=param_grid, n_jobs=-1, cv=3)\n",
    "# grid_result = grid.fit(X_train, y_train)\n",
    "# summarize results\n",
    "# print(\"Best: %f using %s\" % (grid_result.best_score_, grid_result.best_params_))\n",
    "# means = grid_result.cv_results_['mean_test_score']\n",
    "# stds = grid_result.cv_results_['std_test_score']\n",
    "# params = grid_result.cv_results_['params']\n",
    "# for mean, stdev, param in zip(means, stds, params):\n",
    "   # print(\"%f (%f) with: %r\" % (mean, stdev, param))"
   ]
  },
  {
   "cell_type": "markdown",
   "metadata": {},
   "source": [
    "output: Best: 0.858054 using {'learn_rate': 0.3, 'momentum': 0.0}"
   ]
  },
  {
   "cell_type": "code",
   "execution_count": null,
   "metadata": {},
   "outputs": [],
   "source": [
    "# gridsearch to tune the number of neurons\n",
    "\n",
    "# from keras.layers import Dropout\n",
    "# from keras.constraints import maxnorm\n",
    "# Function to create model, required for KerasClassifier\n",
    "# def create_model(neurons=1):\n",
    "    # create model\n",
    "  #  model = Sequential()\n",
    "  #  model.add(Dense(neurons, input_dim=100, kernel_initializer='uniform', activation='linear', kernel_constraint=maxnorm(4)))\n",
    "  #  model.add(Dropout(0.2))\n",
    "  #  model.add(Dense(1, kernel_initializer='uniform', activation='sigmoid'))\n",
    "    # Compile model\n",
    "  #  model.compile(loss='binary_crossentropy', optimizer='Adagrad', metrics=['accuracy'])\n",
    "  #  return model\n",
    "\n",
    "# create model\n",
    "# model = KerasClassifier(build_fn=create_model, epochs=50, batch_size=5, verbose=0)\n",
    "# define the grid search parameters\n",
    "# neurons = [1, 5, 10, 15, 20, 25, 30]\n",
    "# param_grid = dict(neurons=neurons)\n",
    "# grid = GridSearchCV(estimator=model, param_grid=param_grid, n_jobs=-1, cv=3)\n",
    "# grid_result = grid.fit(X_train, y_train)\n",
    "# summarize results\n",
    "# print(\"Best: %f using %s\" % (grid_result.best_score_, grid_result.best_params_))\n",
    "# means = grid_result.cv_results_['mean_test_score']\n",
    "# stds = grid_result.cv_results_['std_test_score']\n",
    "# params = grid_result.cv_results_['params']\n",
    "# for mean, stdev, param in zip(means, stds, params):\n",
    "  #  print(\"%f (%f) with: %r\" % (mean, stdev, param))"
   ]
  },
  {
   "cell_type": "markdown",
   "metadata": {},
   "source": [
    "output: Best: 0.850611 using {'neurons': 1}\n",
    "\n",
    "highest accuracy scores between 1-15 neurons."
   ]
  },
  {
   "cell_type": "code",
   "execution_count": null,
   "metadata": {},
   "outputs": [],
   "source": [
    "# grid search to tune dropout regularisation rate\n",
    "\n",
    "# from keras.layers import Dropout\n",
    "# from keras.constraints import maxnorm\n",
    "# Function to create model, required for KerasClassifier\n",
    "# def create_model(dropout_rate=0.0, weight_constraint=0):\n",
    "    # create model\n",
    "   # model = Sequential()\n",
    "   # model.add(Dense(12, input_dim=100, kernel_initializer='uniform', activation='linear', kernel_constraint=maxnorm(weight_constraint)))\n",
    "   # model.add(Dropout(dropout_rate))\n",
    "   # model.add(Dense(1, kernel_initializer='uniform', activation='sigmoid'))\n",
    "    # Compile model\n",
    "    # model.compile(loss='binary_crossentropy', optimizer='adam', metrics=['accuracy'])\n",
    "   # return model\n",
    "\n",
    "# create model\n",
    "# model = KerasClassifier(build_fn=create_model, epochs=50, batch_size=5, verbose=0)\n",
    "# define the grid search parameters\n",
    "# weight_constraint = [1, 2, 3, 4, 5]\n",
    "# dropout_rate = [0.0, 0.1, 0.2, 0.3, 0.4, 0.5, 0.6, 0.7, 0.8, 0.9]\n",
    "# param_grid = dict(dropout_rate=dropout_rate, weight_constraint=weight_constraint)\n",
    "# grid = GridSearchCV(estimator=model, param_grid=param_grid, n_jobs=-1, cv=3)\n",
    "# grid_result = grid.fit(X_train, y_train)\n",
    "# summarize results\n",
    "# print(\"Best: %f using %s\" % (grid_result.best_score_, grid_result.best_params_))\n",
    "# means = grid_result.cv_results_['mean_test_score']\n",
    "# stds = grid_result.cv_results_['std_test_score']\n",
    "# params = grid_result.cv_results_['params']\n",
    "# for mean, stdev, param in zip(means, stds, params):\n",
    " #   print(\"%f (%f) with: %r\" % (mean, stdev, param))\n"
   ]
  },
  {
   "cell_type": "markdown",
   "metadata": {},
   "source": [
    "output: Best: 0.850611 using {'dropout_rate': 0.7, 'weight_constraint': 3}\n",
    "\n",
    "higher weight constraints (3-5) with dropout rates of 0.6-0.8 gave the best accuracy scores."
   ]
  },
  {
   "cell_type": "code",
   "execution_count": null,
   "metadata": {},
   "outputs": [],
   "source": [
    "# to tune the epochs and batch size\n",
    "# too computationally slow to run\n",
    "\n",
    "# from sklearn.model_selection import GridSearchCV\n",
    "# optimizers = ['rmsprop', 'adam']\n",
    "# init = ['glorot_uniform', 'normal', 'uniform']\n",
    "# epochs = [50, 100, 150]\n",
    "# batches = [5, 10, 20]\n",
    "# param_grid = dict(optimizer=optimizers, epochs=epochs, batch_size=batches, init=init)\n",
    "# grid = GridSearchCV(estimator=model, param_grid=param_grid)\n",
    "# grid_result = grid.fit(X, Y)\n",
    "# summarize results of grid search for best epoch, batch and optimizer\n",
    "# print(\"Best: %f using %s\" % (grid_result.best_score_, grid_result.best_params_))\n",
    "    \n",
    "# means = grid_result.cv_results_['mean_test_score']\n",
    "# stds = grid_result.cv_results_['std_test_score']\n",
    "# params = grid_result.cv_results_['params']\n",
    "# for mean, stdev, param in zip(means, stds, params):\n",
    "  #  print(\"%f (%f) with: %r\" % (mean, stdev, param))"
   ]
  }
 ],
 "metadata": {
  "kernelspec": {
   "display_name": "keras",
   "language": "python",
   "name": "keras"
  },
  "language_info": {
   "codemirror_mode": {
    "name": "ipython",
    "version": 3
   },
   "file_extension": ".py",
   "mimetype": "text/x-python",
   "name": "python",
   "nbconvert_exporter": "python",
   "pygments_lexer": "ipython3",
   "version": "3.6.13"
  }
 },
 "nbformat": 4,
 "nbformat_minor": 4
}
