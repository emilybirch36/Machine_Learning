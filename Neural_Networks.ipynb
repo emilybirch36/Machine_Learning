{
 "cells": [
  {
   "cell_type": "markdown",
   "metadata": {},
   "source": [
    "# Neural Networks"
   ]
  },
  {
   "cell_type": "code",
   "execution_count": 1,
   "metadata": {},
   "outputs": [
    {
     "data": {
      "image/png": "[encoded data removed]",
      "text/plain": [
       "<Figure size 432x288 with 1 Axes>"
      ]
     },
     "metadata": {
      "needs_background": "light"
     },
     "output_type": "display_data"
    },
    {
     "name": "stdout",
     "output_type": "stream",
     "text": [
      "(1549, 100)\n",
      "(665, 100)\n"
     ]
    }
   ],
   "source": [
    "%run Preprocessing.ipynb"
   ]
  },
  {
   "cell_type": "code",
   "execution_count": 2,
   "metadata": {
    "pycharm": {
     "name": "#%%\n"
    }
   },
   "outputs": [
    {
     "name": "stderr",
     "output_type": "stream",
     "text": [
      "Using TensorFlow backend.\n",
      "/Users/emilybirch/opt/anaconda3/envs/keras/lib/python3.6/site-packages/tensorflow/python/framework/dtypes.py:516: FutureWarning: Passing (type, 1) or '1type' as a synonym of type is deprecated; in a future version of numpy, it will be understood as (type, (1,)) / '(1,)type'.\n",
      "  _np_qint8 = np.dtype([(\"qint8\", np.int8, 1)])\n",
      "/Users/emilybirch/opt/anaconda3/envs/keras/lib/python3.6/site-packages/tensorflow/python/framework/dtypes.py:517: FutureWarning: Passing (type, 1) or '1type' as a synonym of type is deprecated; in a future version of numpy, it will be understood as (type, (1,)) / '(1,)type'.\n",
      "  _np_quint8 = np.dtype([(\"quint8\", np.uint8, 1)])\n",
      "/Users/emilybirch/opt/anaconda3/envs/keras/lib/python3.6/site-packages/tensorflow/python/framework/dtypes.py:518: FutureWarning: Passing (type, 1) or '1type' as a synonym of type is deprecated; in a future version of numpy, it will be understood as (type, (1,)) / '(1,)type'.\n",
      "  _np_qint16 = np.dtype([(\"qint16\", np.int16, 1)])\n",
      "/Users/emilybirch/opt/anaconda3/envs/keras/lib/python3.6/site-packages/tensorflow/python/framework/dtypes.py:519: FutureWarning: Passing (type, 1) or '1type' as a synonym of type is deprecated; in a future version of numpy, it will be understood as (type, (1,)) / '(1,)type'.\n",
      "  _np_quint16 = np.dtype([(\"quint16\", np.uint16, 1)])\n",
      "/Users/emilybirch/opt/anaconda3/envs/keras/lib/python3.6/site-packages/tensorflow/python/framework/dtypes.py:520: FutureWarning: Passing (type, 1) or '1type' as a synonym of type is deprecated; in a future version of numpy, it will be understood as (type, (1,)) / '(1,)type'.\n",
      "  _np_qint32 = np.dtype([(\"qint32\", np.int32, 1)])\n",
      "/Users/emilybirch/opt/anaconda3/envs/keras/lib/python3.6/site-packages/tensorflow/python/framework/dtypes.py:525: FutureWarning: Passing (type, 1) or '1type' as a synonym of type is deprecated; in a future version of numpy, it will be understood as (type, (1,)) / '(1,)type'.\n",
      "  np_resource = np.dtype([(\"resource\", np.ubyte, 1)])\n",
      "/Users/emilybirch/opt/anaconda3/envs/keras/lib/python3.6/site-packages/tensorboard/compat/tensorflow_stub/dtypes.py:541: FutureWarning: Passing (type, 1) or '1type' as a synonym of type is deprecated; in a future version of numpy, it will be understood as (type, (1,)) / '(1,)type'.\n",
      "  _np_qint8 = np.dtype([(\"qint8\", np.int8, 1)])\n",
      "/Users/emilybirch/opt/anaconda3/envs/keras/lib/python3.6/site-packages/tensorboard/compat/tensorflow_stub/dtypes.py:542: FutureWarning: Passing (type, 1) or '1type' as a synonym of type is deprecated; in a future version of numpy, it will be understood as (type, (1,)) / '(1,)type'.\n",
      "  _np_quint8 = np.dtype([(\"quint8\", np.uint8, 1)])\n",
      "/Users/emilybirch/opt/anaconda3/envs/keras/lib/python3.6/site-packages/tensorboard/compat/tensorflow_stub/dtypes.py:543: FutureWarning: Passing (type, 1) or '1type' as a synonym of type is deprecated; in a future version of numpy, it will be understood as (type, (1,)) / '(1,)type'.\n",
      "  _np_qint16 = np.dtype([(\"qint16\", np.int16, 1)])\n",
      "/Users/emilybirch/opt/anaconda3/envs/keras/lib/python3.6/site-packages/tensorboard/compat/tensorflow_stub/dtypes.py:544: FutureWarning: Passing (type, 1) or '1type' as a synonym of type is deprecated; in a future version of numpy, it will be understood as (type, (1,)) / '(1,)type'.\n",
      "  _np_quint16 = np.dtype([(\"quint16\", np.uint16, 1)])\n",
      "/Users/emilybirch/opt/anaconda3/envs/keras/lib/python3.6/site-packages/tensorboard/compat/tensorflow_stub/dtypes.py:545: FutureWarning: Passing (type, 1) or '1type' as a synonym of type is deprecated; in a future version of numpy, it will be understood as (type, (1,)) / '(1,)type'.\n",
      "  _np_qint32 = np.dtype([(\"qint32\", np.int32, 1)])\n",
      "/Users/emilybirch/opt/anaconda3/envs/keras/lib/python3.6/site-packages/tensorboard/compat/tensorflow_stub/dtypes.py:550: FutureWarning: Passing (type, 1) or '1type' as a synonym of type is deprecated; in a future version of numpy, it will be understood as (type, (1,)) / '(1,)type'.\n",
      "  np_resource = np.dtype([(\"resource\", np.ubyte, 1)])\n"
     ]
    }
   ],
   "source": [
    "# import the required packages\n",
    "import seaborn as sns\n",
    "from matplotlib import pyplot as plt\n",
    "from keras.models import Sequential\n",
    "from keras.layers import Dense, Dropout\n",
    "from keras.wrappers.scikit_learn import KerasClassifier\n",
    "from keras.constraints import maxnorm\n",
    "from sklearn.preprocessing import StandardScaler\n",
    "from sklearn.model_selection import KFold, cross_val_score # StratifiedKFold\n",
    "from sklearn.metrics import confusion_matrix, accuracy_score, classification_report\n",
    "# # Grid search Packages\n",
    "# from sklearn.preprocessing import LabelEncoder\n",
    "# from sklearn.pipeline import Pipeline\n",
    "# from sklearn.model_selection import GridSearchCV\n",
    "# from keras.optimizers import SGD"
   ]
  },
  {
   "cell_type": "code",
   "execution_count": 3,
   "metadata": {
    "pycharm": {
     "name": "#%%\n"
    }
   },
   "outputs": [],
   "source": [
    "# Set train and test sets\n",
    "x_train = x_train\n",
    "y_train = y_train\n",
    "x_test = x_test\n",
    "y_test = y_test\n",
    "\n",
    "# Set classes based on classification complexity decided in pre-processing\n",
    "classes = {'LowCrime': 0, 'HighCrime': 1}"
   ]
  },
  {
   "cell_type": "markdown",
   "metadata": {
    "pycharm": {
     "name": "#%% md\n"
    }
   },
   "source": [
    "**Preprocessing**\n",
    "\n",
    "- Check that that transformations are distributed to have a mean value 0 and standard deviation of 1."
   ]
  },
  {
   "cell_type": "code",
   "execution_count": 5,
   "metadata": {
    "pycharm": {
     "name": "#%%\n"
    }
   },
   "outputs": [],
   "source": [
    "# Transform x features\n",
    "sc = StandardScaler()\n",
    "sc.fit(x_train)\n",
    "X_train = sc.transform(x_train)\n",
    "sc = StandardScaler()\n",
    "sc.fit(x_test)\n",
    "X_test = sc.transform(x_test)"
   ]
  },
  {
   "cell_type": "code",
   "execution_count": 6,
   "metadata": {},
   "outputs": [
    {
     "name": "stdout",
     "output_type": "stream",
     "text": [
      "(1549, 100) (665, 100) (1549,) (665,)\n"
     ]
    }
   ],
   "source": [
    "# check the data\n",
    "print(X_train.shape, x_test.shape, y_train.shape, y_test.shape)"
   ]
  },
  {
   "cell_type": "markdown",
   "metadata": {},
   "source": [
    "**Results of grid search (GridSearchCV()) to tune hyperparameters found:**\n",
    "\n",
    "1. The optimizer providing the best model accuracy is 'Adagrad'.\n",
    "2. The optimal learning rate and momentum are: is 'learn_rate': 0.3 and 'momentum': 0.0 (when using stochastic gradient descent).\n",
    "3. Use epochs=50 and batch size=5 to find the minima more quickly, reducing computational running time. Plus to allow the model to not learn patterns. \n",
    "4. Use a dropout rate for regularisation of 0.7 and a maxnorm 3 kernel weight constraint, to improve the model's ability to generalise.\n",
    "5. Set the number of neurons to between 1-15 (had the highest accuracy scores) to control the representational capacity of the NN. \n",
    "\n",
    "NOTE: See extra code for grid search tunning (commented out)"
   ]
  },
  {
   "cell_type": "markdown",
   "metadata": {
    "pycharm": {
     "name": "#%% md\n"
    }
   },
   "source": [
    "**Fit model**"
   ]
  },
  {
   "cell_type": "code",
   "execution_count": 7,
   "metadata": {
    "pycharm": {
     "name": "#%%\n"
    }
   },
   "outputs": [
    {
     "name": "stdout",
     "output_type": "stream",
     "text": [
      "WARNING:tensorflow:From /Users/emilybirch/opt/anaconda3/envs/keras/lib/python3.6/site-packages/tensorflow/python/ops/nn_impl.py:180: add_dispatch_support.<locals>.wrapper (from tensorflow.python.ops.array_ops) is deprecated and will be removed in a future version.\n",
      "Instructions for updating:\n",
      "Use tf.where in 2.0, which has the same broadcast rule as np.where\n",
      "WARNING:tensorflow:From /Users/emilybirch/opt/anaconda3/envs/keras/lib/python3.6/site-packages/keras/backend/tensorflow_backend.py:422: The name tf.global_variables is deprecated. Please use tf.compat.v1.global_variables instead.\n",
      "\n"
     ]
    }
   ],
   "source": [
    "# Neural Network model function\n",
    "def create_model(optimizer='Adagrad', init='glorot_uniform', neurons=12, dropout_rate=0.2):\n",
    "    # create model\n",
    "    model = Sequential()\n",
    "    # Adding more layers by trial and error\n",
    "    model.add(Dense(neurons, input_dim=100, kernel_initializer='uniform', activation='linear', kernel_constraint=maxnorm(4)))\n",
    "    model.add(Dropout(dropout_rate))\n",
    "    model.add(Dense(1, kernel_initializer=init, activation='sigmoid')) \n",
    "    # Compile model\n",
    "    model.compile(loss='binary_crossentropy', optimizer=optimizer, metrics=['accuracy'])\n",
    "    return model\n",
    "\n",
    "classifier = KerasClassifier(build_fn = create_model, batch_size = 5, epochs = 50, verbose=0)\n",
    "\n",
    "# Fit Model to the training data\n",
    "train_pred = classifier.fit(X_train, y_train)"
   ]
  },
  {
   "cell_type": "markdown",
   "metadata": {
    "pycharm": {
     "name": "#%% md\n"
    }
   },
   "source": [
    "**Perform k-fold validation**\n",
    "- Accuracy: 85%\n",
    "- Standard Deviation: 0.02\n",
    "- NOTE: Plot commented out because computationally too slow (optimal fold is 11)"
   ]
  },
  {
   "cell_type": "code",
   "execution_count": null,
   "metadata": {
    "pycharm": {
     "name": "#%%\n"
    }
   },
   "outputs": [],
   "source": [
    "# kf =KFold(n_splits=10, shuffle=True, random_state=42)\n",
    "# kfold_scores = {}\n",
    "# for i in range(2,12):\n",
    "#    kfold = StratifiedKFold(n_splits=10, shuffle=True)\n",
    "#    classifier = KerasClassifier(build_fn = create_model, batch_size = 5, epochs = 50, verbose=0)\n",
    "#    accuracies = cross_val_score(classifier, X_train, y_train, cv= kf)\n",
    "#    res = {str(i): accuracies.mean()}\n",
    "#    kfold_scores.update(res)\n",
    "#\n",
    "# for key in kfold_scores:\n",
    "#    plt.bar([key], kfold_scores[key], label=key, color=(0.2, 0.4, 0.6, 0.6))\n",
    "#\n",
    "# plt.title('K-Fold vs Test Data Accuracy')\n",
    "# plt.xlabel('K')\n",
    "# plt.ylabel('Accuracy')\n",
    "# plt.ylim(0.7, 0.9)\n",
    "# plt.show()"
   ]
  },
  {
   "cell_type": "code",
   "execution_count": 8,
   "metadata": {
    "pycharm": {
     "name": "#%%\n"
    }
   },
   "outputs": [
    {
     "name": "stdout",
     "output_type": "stream",
     "text": [
      "Scores for each fold are: [0.87943262 0.80851064 0.85106383 0.82978723 0.88652482 0.85106383\n",
      " 0.85815603 0.85106383 0.85106383 0.81428571 0.83571429]\n",
      "Average score: 0.85\n",
      "Standard Deviation in score: 0.02\n"
     ]
    }
   ],
   "source": [
    "# Check k-fold validation\n",
    "kf =KFold(n_splits=11, shuffle=True, random_state=42)\n",
    "score = cross_val_score(classifier, X_train, y_train, cv= kf, scoring=\"accuracy\")\n",
    "print(f'Scores for each fold are: {score}')\n",
    "print(f'Average score: {\"{:.2f}\".format(score.mean())}')\n",
    "print(f'Standard Deviation in score: {\"{:.2f}\".format(score.std())}')"
   ]
  },
  {
   "cell_type": "markdown",
   "metadata": {},
   "source": [
    "**Compare train and test predictions**\n",
    "\n",
    "- Training Accuracy: 87.54%\n",
    "- Testing Accuracy: 86.92%"
   ]
  },
  {
   "cell_type": "code",
   "execution_count": 9,
   "metadata": {},
   "outputs": [
    {
     "name": "stdout",
     "output_type": "stream",
     "text": [
      "Neural Network Train Model Accuracy(in %): 87.54034861200775\n",
      "Neural Network Test Model Accuracy(in %): 86.9172932330827\n"
     ]
    }
   ],
   "source": [
    "# Compare train & test data\n",
    "y_train_pred = classifier.predict(X_train)\n",
    "y_train_pred = (y_train_pred > 0.5)\n",
    "y_test_pred = classifier.predict(X_test)\n",
    "y_test_pred = (y_test_pred > 0.5)\n",
    "\n",
    "print(f'Neural Network Train Model Accuracy(in %): {accuracy_score(y_train_pred,y_train)*100}')\n",
    "print(f'Neural Network Test Model Accuracy(in %): {accuracy_score(y_test_pred,y_test)*100}')"
   ]
  },
  {
   "cell_type": "code",
   "execution_count": 10,
   "metadata": {
    "pycharm": {
     "name": "#%%\n"
    }
   },
   "outputs": [
    {
     "name": "stdout",
     "output_type": "stream",
     "text": [
      "              precision    recall  f1-score   support\n",
      "\n",
      "         0.0       0.90      0.94      0.92      1148\n",
      "         1.0       0.80      0.69      0.74       401\n",
      "\n",
      "    accuracy                           0.88      1549\n",
      "   macro avg       0.85      0.82      0.83      1549\n",
      "weighted avg       0.87      0.88      0.87      1549\n",
      "\n"
     ]
    }
   ],
   "source": [
    "# Get classification report for train\n",
    "print(classification_report(y_train, y_train_pred))"
   ]
  },
  {
   "cell_type": "code",
   "execution_count": 12,
   "metadata": {},
   "outputs": [
    {
     "name": "stdout",
     "output_type": "stream",
     "text": [
      "              precision    recall  f1-score   support\n",
      "\n",
      "         0.0       0.92      0.91      0.91       512\n",
      "         1.0       0.71      0.74      0.72       153\n",
      "\n",
      "    accuracy                           0.87       665\n",
      "   macro avg       0.81      0.82      0.82       665\n",
      "weighted avg       0.87      0.87      0.87       665\n",
      "\n"
     ]
    }
   ],
   "source": [
    "# Get classification report for test\n",
    "from sklearn.metrics import classification_report\n",
    "print(classification_report(y_test, y_test_pred))"
   ]
  },
  {
   "cell_type": "code",
   "execution_count": 13,
   "metadata": {
    "pycharm": {
     "name": "#%%\n"
    }
   },
   "outputs": [
    {
     "data": {
      "image/png": "[encoded data removed]",
      "text/plain": [
       "<Figure size 432x288 with 2 Axes>"
      ]
     },
     "metadata": {
      "needs_background": "light"
     },
     "output_type": "display_data"
    },
    {
     "data": {
      "image/png": "[encoded data removed]",
      "text/plain": [
       "<Figure size 432x288 with 2 Axes>"
      ]
     },
     "metadata": {
      "needs_background": "light"
     },
     "output_type": "display_data"
    }
   ],
   "source": [
    "# Function for plotting confusion matrix\n",
    "def plot_confusion_matrix(train_p, train, dom):\n",
    "    cf = confusion_matrix(train_p,train)\n",
    "    sns.heatmap(cf,annot=True,yticklabels=classes,xticklabels=classes,cmap='Blues', fmt='g')\n",
    "    plt.title(f'{dom} Confusion matrix')\n",
    "    plt.tight_layout()\n",
    "    # plt.savefig(f'{dom} Confusion matrix.png')\n",
    "    plt.show()\n",
    "    \n",
    "# Plot confusion matrix\n",
    "plot_confusion_matrix(y_train_pred,y_train,dom='Train')\n",
    "plot_confusion_matrix(y_test_pred,y_test,dom='Test')"
   ]
  },
  {
   "cell_type": "markdown",
   "metadata": {},
   "source": [
    "## Extra code\n",
    "**How grid search for hyperparameter tuning was carried out**\n",
    "\n",
    "Using the GridSearchCV() class from scikit learn to find the hyperparameters that give the best model accuracy.\n",
    "\n",
    "\n",
    "1. to find the best optimizer \n",
    "2. to tune learning rate and momentum\n",
    "3. to tune the number of neurons \n",
    "4. to tune dropout regularisation\n",
    "5. to tune the number of epochs and batch size"
   ]
  },
  {
   "cell_type": "code",
   "execution_count": null,
   "metadata": {},
   "outputs": [],
   "source": [
    "# grid search tuning to find best optimizer\n",
    "\n",
    "# def create_model(optimizer='adam', init='glorot_uniform'):\n",
    "    # create model\n",
    "  #  model = Sequential()\n",
    "    # adding more layers by trial and error\n",
    "  #  model.add(Dense(30, input_dim=100, kernel_initializer=init, activation='relu'))\n",
    "  #  model.add(Dense(1, kernel_initializer=init, activation='sigmoid'))\n",
    "   # print(model.summary())\n",
    "    # Compile model\n",
    "  #  model.compile(loss='binary_crossentropy', optimizer=optimizer, metrics=['accuracy'])\n",
    "  #  return model\n",
    "\n",
    "\n",
    "# create model\n",
    "# model = KerasClassifier(build_fn=create_model, epochs=100, batch_size=10, verbose=0)\n",
    "# define the grid search parameters\n",
    "# optimizer = ['SGD', 'RMSprop', 'Adagrad', 'Adadelta', 'Adam', 'Adamax', 'Nadam']\n",
    "# param_grid = dict(optimizer=optimizer)\n",
    "# grid = GridSearchCV(estimator=model, param_grid=param_grid, n_jobs=-1, cv=3)\n",
    "# grid_result = grid.fit(X_train, y_train)\n",
    "# summarize results\n",
    "# print(\"Best: %f using %s\" % (grid_result.best_score_, grid_result.best_params_))\n",
    "# means = grid_result.cv_results_['mean_test_score']\n",
    "# stds = grid_result.cv_results_['std_test_score']\n",
    "# params = grid_result.cv_results_['params']\n",
    "# for mean, stdev, param in zip(means, stds, params):\n",
    "  #  print(\"%f (%f) with: %r\" % (mean, stdev, param))"
   ]
  },
  {
   "cell_type": "markdown",
   "metadata": {},
   "source": [
    "output: Best: 0.852206 using {'optimizer': 'Adagrad'}"
   ]
  },
  {
   "cell_type": "code",
   "execution_count": null,
   "metadata": {},
   "outputs": [],
   "source": [
    "# grid search to tune learning rate and momentum\n",
    "\n",
    "# create the model again and set these \n",
    "# from keras.optimizers import SGD\n",
    "# Function to create model, required for KerasClassifier\n",
    "# def create_model(learn_rate=0.01, momentum=0):\n",
    "    # create model\n",
    "   # model = Sequential()\n",
    "  #  model.add(Dense(12, input_dim=100, activation='relu'))\n",
    "  #  model.add(Dense(1, activation='sigmoid'))\n",
    "    # Compile model\n",
    "  #  optimizer = SGD(lr=learn_rate, momentum=momentum)\n",
    "  #  model.compile(loss='binary_crossentropy', optimizer='Adagrad', metrics=['accuracy'])\n",
    "  #  return model\n",
    "\n",
    "# create model\n",
    "# model = KerasClassifier(build_fn=create_model, epochs=50, batch_size=5, verbose=0)\n",
    "# define the grid search parameters\n",
    "# learn_rate = [0.001, 0.01, 0.1, 0.2, 0.3]\n",
    "# momentum = [0.0, 0.2, 0.4, 0.6, 0.8, 0.9]\n",
    "# param_grid = dict(learn_rate=learn_rate, momentum=momentum)\n",
    "# grid = GridSearchCV(estimator=model, param_grid=param_grid, n_jobs=-1, cv=3)\n",
    "# grid_result = grid.fit(X_train, y_train)\n",
    "# summarize results\n",
    "# print(\"Best: %f using %s\" % (grid_result.best_score_, grid_result.best_params_))\n",
    "# means = grid_result.cv_results_['mean_test_score']\n",
    "# stds = grid_result.cv_results_['std_test_score']\n",
    "# params = grid_result.cv_results_['params']\n",
    "# for mean, stdev, param in zip(means, stds, params):\n",
    "   # print(\"%f (%f) with: %r\" % (mean, stdev, param))"
   ]
  },
  {
   "cell_type": "markdown",
   "metadata": {},
   "source": [
    "output: Best: 0.858054 using {'learn_rate': 0.3, 'momentum': 0.0}"
   ]
  },
  {
   "cell_type": "code",
   "execution_count": null,
   "metadata": {},
   "outputs": [],
   "source": [
    "# gridsearch to tune the number of neurons\n",
    "\n",
    "# from keras.layers import Dropout\n",
    "# from keras.constraints import maxnorm\n",
    "# Function to create model, required for KerasClassifier\n",
    "# def create_model(neurons=1):\n",
    "    # create model\n",
    "  #  model = Sequential()\n",
    "  #  model.add(Dense(neurons, input_dim=100, kernel_initializer='uniform', activation='linear', kernel_constraint=maxnorm(4)))\n",
    "  #  model.add(Dropout(0.2))\n",
    "  #  model.add(Dense(1, kernel_initializer='uniform', activation='sigmoid'))\n",
    "    # Compile model\n",
    "  #  model.compile(loss='binary_crossentropy', optimizer='Adagrad', metrics=['accuracy'])\n",
    "  #  return model\n",
    "\n",
    "# create model\n",
    "# model = KerasClassifier(build_fn=create_model, epochs=50, batch_size=5, verbose=0)\n",
    "# define the grid search parameters\n",
    "# neurons = [1, 5, 10, 15, 20, 25, 30]\n",
    "# param_grid = dict(neurons=neurons)\n",
    "# grid = GridSearchCV(estimator=model, param_grid=param_grid, n_jobs=-1, cv=3)\n",
    "# grid_result = grid.fit(X_train, y_train)\n",
    "# summarize results\n",
    "# print(\"Best: %f using %s\" % (grid_result.best_score_, grid_result.best_params_))\n",
    "# means = grid_result.cv_results_['mean_test_score']\n",
    "# stds = grid_result.cv_results_['std_test_score']\n",
    "# params = grid_result.cv_results_['params']\n",
    "# for mean, stdev, param in zip(means, stds, params):\n",
    "  #  print(\"%f (%f) with: %r\" % (mean, stdev, param))"
   ]
  },
  {
   "cell_type": "markdown",
   "metadata": {},
   "source": [
    "output: Best: 0.850611 using {'neurons': 1}\n",
    "\n",
    "highest accuracy scores between 1-15 neurons."
   ]
  },
  {
   "cell_type": "code",
   "execution_count": null,
   "metadata": {},
   "outputs": [],
   "source": [
    "# grid search to tune dropout regularisation rate\n",
    "\n",
    "# from keras.layers import Dropout\n",
    "# from keras.constraints import maxnorm\n",
    "# Function to create model, required for KerasClassifier\n",
    "# def create_model(dropout_rate=0.0, weight_constraint=0):\n",
    "    # create model\n",
    "   # model = Sequential()\n",
    "   # model.add(Dense(12, input_dim=100, kernel_initializer='uniform', activation='linear', kernel_constraint=maxnorm(weight_constraint)))\n",
    "   # model.add(Dropout(dropout_rate))\n",
    "   # model.add(Dense(1, kernel_initializer='uniform', activation='sigmoid'))\n",
    "    # Compile model\n",
    "    # model.compile(loss='binary_crossentropy', optimizer='adam', metrics=['accuracy'])\n",
    "   # return model\n",
    "\n",
    "# create model\n",
    "# model = KerasClassifier(build_fn=create_model, epochs=50, batch_size=5, verbose=0)\n",
    "# define the grid search parameters\n",
    "# weight_constraint = [1, 2, 3, 4, 5]\n",
    "# dropout_rate = [0.0, 0.1, 0.2, 0.3, 0.4, 0.5, 0.6, 0.7, 0.8, 0.9]\n",
    "# param_grid = dict(dropout_rate=dropout_rate, weight_constraint=weight_constraint)\n",
    "# grid = GridSearchCV(estimator=model, param_grid=param_grid, n_jobs=-1, cv=3)\n",
    "# grid_result = grid.fit(X_train, y_train)\n",
    "# summarize results\n",
    "# print(\"Best: %f using %s\" % (grid_result.best_score_, grid_result.best_params_))\n",
    "# means = grid_result.cv_results_['mean_test_score']\n",
    "# stds = grid_result.cv_results_['std_test_score']\n",
    "# params = grid_result.cv_results_['params']\n",
    "# for mean, stdev, param in zip(means, stds, params):\n",
    " #   print(\"%f (%f) with: %r\" % (mean, stdev, param))\n"
   ]
  },
  {
   "cell_type": "markdown",
   "metadata": {},
   "source": [
    "output: Best: 0.850611 using {'dropout_rate': 0.7, 'weight_constraint': 3}\n",
    "\n",
    "higher weight constraints (3-5) with dropout rates of 0.6-0.8 gave the best accuracy scores."
   ]
  },
  {
   "cell_type": "code",
   "execution_count": null,
   "metadata": {},
   "outputs": [],
   "source": [
    "# to tune the epochs and batch size\n",
    "# too computationally slow to run\n",
    "\n",
    "# from sklearn.model_selection import GridSearchCV\n",
    "# optimizers = ['rmsprop', 'adam']\n",
    "# init = ['glorot_uniform', 'normal', 'uniform']\n",
    "# epochs = [50, 100, 150]\n",
    "# batches = [5, 10, 20]\n",
    "# param_grid = dict(optimizer=optimizers, epochs=epochs, batch_size=batches, init=init)\n",
    "# grid = GridSearchCV(estimator=model, param_grid=param_grid)\n",
    "# grid_result = grid.fit(X, Y)\n",
    "# summarize results of grid search for best epoch, batch and optimizer\n",
    "# print(\"Best: %f using %s\" % (grid_result.best_score_, grid_result.best_params_))\n",
    "    \n",
    "# means = grid_result.cv_results_['mean_test_score']\n",
    "# stds = grid_result.cv_results_['std_test_score']\n",
    "# params = grid_result.cv_results_['params']\n",
    "# for mean, stdev, param in zip(means, stds, params):\n",
    "  #  print(\"%f (%f) with: %r\" % (mean, stdev, param))"
   ]
  }
 ],
 "metadata": {
  "kernelspec": {
   "display_name": "Python 3",
   "language": "python",
   "name": "python3"
  },
  "language_info": {
   "codemirror_mode": {
    "name": "ipython",
    "version": 3
   },
   "file_extension": ".py",
   "mimetype": "text/x-python",
   "name": "python",
   "nbconvert_exporter": "python",
   "pygments_lexer": "ipython3",
   "version": "3.6.13"
  }
 },
 "nbformat": 4,
 "nbformat_minor": 4
}
